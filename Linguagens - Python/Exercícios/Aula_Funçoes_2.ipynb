{
  "nbformat": 4,
  "nbformat_minor": 0,
  "metadata": {
    "colab": {
      "provenance": []
    },
    "kernelspec": {
      "name": "python3",
      "display_name": "Python 3"
    },
    "language_info": {
      "name": "python"
    }
  },
  "cells": [
    {
      "cell_type": "markdown",
      "source": [
        "## Elementos individuais de listas\n",
        "\n",
        "Muitas vezes, precisamos acessar elementos individuais de listas, o que é possível de ser feito a partir de sua indexação.\n",
        "\n",
        "Sabendo disso, crie uma função retornaPenultimoEQuartoElementodeLista() que recebe uma lista e retorne o quarto e o penúltimo elemento desta lista, nesta ordem."
      ],
      "metadata": {
        "id": "6ucyoKC924-U"
      }
    },
    {
      "cell_type": "code",
      "execution_count": null,
      "metadata": {
        "id": "YXYPtv8322Sa"
      },
      "outputs": [],
      "source": [
        "def retornaPenultimoEQuartoElementodeLista(tuplaA):\n",
        "\trecorteLista = [tuplaA[3], tuplaA[-1]]\n",
        "\treturn recorteLista\n",
        "\n",
        "lista = [1, 2, 3 , 4, 5, 6]\n",
        "\n",
        "retornaPenultimoEQuartoElementodeLista(lista)"
      ]
    },
    {
      "cell_type": "markdown",
      "source": [
        "## Indexação de listas e último elemento\n",
        "\n",
        "Uma lista possui n elementos, sendo comum executarmos determinadas ações em um elemento de determinada posição. Por exemplo, podemos substituir o elemento da primeira posição da lista por outro valor desejado. Quando selecionamos um elemento, chamamos isto de indexação.\n",
        "\n",
        "Sendo assim, escreva uma função ultimoElemento() em python que recebe uma lista e retorna o último elemento da lista."
      ],
      "metadata": {
        "id": "iNorEQMl3BrL"
      }
    },
    {
      "cell_type": "code",
      "source": [
        "lista = [1, 2, 3]\n",
        "\n",
        "def ultimoElemento(listaA):\n",
        "\treturn listaA[-1]\n",
        "\n",
        "ultimoElemento(lista)"
      ],
      "metadata": {
        "colab": {
          "base_uri": "https://localhost:8080/"
        },
        "id": "piMw2GBS3B8q",
        "outputId": "e9da8f6d-66f6-403d-99c5-abf19de8a730"
      },
      "execution_count": null,
      "outputs": [
        {
          "output_type": "execute_result",
          "data": {
            "text/plain": [
              "3"
            ]
          },
          "metadata": {},
          "execution_count": 1
        }
      ]
    },
    {
      "cell_type": "markdown",
      "source": [
        "## Ordenando listas\n",
        "Em um sistema, comumente utilizamos listas para armazenamento de dados. Entretanto, existem casos em que torna-se necessário criarmos um padrão de organização dos dados. Por exemplo, podemos organizar um cadastro de clientes pela idade destes usuários. Este procedimento de organização é conhecido como ordenação.\n",
        "\n",
        "Sabendo disso, crie uma função chamada ordena_lista() que recebe uma lista de elementos e ordene-os em ordem decrescente. A função possui como parâmetro a lista a ser ordenada e retorna a mesma lista ordenada de forma decrescente."
      ],
      "metadata": {
        "id": "waE1b0D04fBl"
      }
    },
    {
      "cell_type": "code",
      "source": [
        "def ordena_lista(listaA):\n",
        "\tlistaA.sort(reverse=True)\n",
        "\treturn listaA\n",
        "\n",
        "\n",
        "lista = [1, 2, 3, 4, 5]\n",
        "\n",
        "ordena_lista(lista)"
      ],
      "metadata": {
        "id": "9XoIJbYx4fTb"
      },
      "execution_count": null,
      "outputs": []
    },
    {
      "cell_type": "markdown",
      "source": [
        "## Remover elementos de listas\n",
        "Considere que uma empresa desenvolveu uma aplicação que solicita ao usuário uma dada informação, como, por exemplo, o segundo nome deste usuário. O programa recebe essa informação e armazena em uma lista de strings. Entretanto, caso um usuário acidentalmente não tenha preenchido esta informação, a lista conterá elementos vazios. Por exemplo, dada uma lista com 5 nomes: listaDeNomes = ['Araújo', 'Alexandre', 'Silva', 'Flávio', ''], note que o último elemento da lista é apenas uma string vazia representada pelas aspas vazias.\n",
        "\n",
        "Sabendo disso, faça uma função removerElementosVazios() que recebe uma lista de nomes e retorna a lista sem os elementos vazios."
      ],
      "metadata": {
        "id": "5CyT4ju87I-m"
      }
    },
    {
      "cell_type": "code",
      "source": [
        "def removerElementosVazios(listaA):\n",
        "\treturn [i for i in listaA if i != \"\"]\n",
        "\n",
        "listaDeNomes = ['Araújo', 'Alexandre', 'Silva', 'Flávio', '']\n",
        "\n",
        "removerElementosVazios(listaDeNomes)"
      ],
      "metadata": {
        "colab": {
          "base_uri": "https://localhost:8080/"
        },
        "id": "z-ELKuKS7JPd",
        "outputId": "b5e17d25-8799-424c-ecb2-f705a135a18d"
      },
      "execution_count": null,
      "outputs": [
        {
          "output_type": "execute_result",
          "data": {
            "text/plain": [
              "['Araújo', 'Alexandre', 'Silva', 'Flávio']"
            ]
          },
          "metadata": {},
          "execution_count": 16
        }
      ]
    },
    {
      "cell_type": "markdown",
      "source": [
        "## Slice\n",
        "Apesar de utilizarmos listas para armazenar vários elementos, existem situações em que precisamos utilizar apenas parte desta lista. Por exemplo, podemos guardar em uma lista de 30 elementos com o registro do preço do dólar a cada dia nos últimos 30 dias. Posteriormente, podemos querer visualizar o custo do dólar apenas nos últimos 7 dias, para isso pegando os últimos 7 elementos da lista ao invés de 30.\n",
        "\n",
        "Em python, quando selecionamos partes da lista, denominamos esta operação de slicing, podendo ser realizada não apenas para seleção dos últimos elementos da lista, como também elementos em qualquer posição da lista.\n",
        "\n",
        "Sabendo disso, crie uma função particionarLista() em python que recebe uma lista e retorne apenas os elementos das posições 5 até 12."
      ],
      "metadata": {
        "id": "TpxlgAUREpIR"
      }
    },
    {
      "cell_type": "code",
      "source": [
        "def particionarLista(listaA):\n",
        "\treturn listaA[5:13]\n",
        "\n",
        "precos_janeiro = [100, 102, 98, 100, 101, 99, 100, 102, 101, 100, 98, 97, 98, 100, 101, 102, 100, 99, 98, 100, 101, 102, 103, 104, 105, 106, 107, 108, 109, 110, 111]\n",
        "\n",
        "particionarLista(precos_janeiro)"
      ],
      "metadata": {
        "colab": {
          "base_uri": "https://localhost:8080/"
        },
        "id": "VCaBXbAYEpU8",
        "outputId": "f5fd77a9-6d53-45c8-edde-1060bdf7f46b"
      },
      "execution_count": null,
      "outputs": [
        {
          "output_type": "execute_result",
          "data": {
            "text/plain": [
              "[99, 100, 102, 101, 100, 98, 97, 98]"
            ]
          },
          "metadata": {},
          "execution_count": 18
        }
      ]
    },
    {
      "cell_type": "markdown",
      "source": [
        "## Adicionar elementos em listas\n",
        "Quando utilizamos listas, uma das vantagens é que podemos adicionar novos elementos com o passar do tempo. Podemos inserir elementos tanto ao final da lista, como também em uma posição específica.\n",
        "\n",
        "Sabendo disso, faça uma função adicionarElemento() que recebe uma lista de números e insere o número inteiro 42 no meio da lista (isto é, em sua posição central). Note que a posição de inserção pode variar a depender da quantidade de elementos na lista original."
      ],
      "metadata": {
        "id": "9_QkM3INIRay"
      }
    },
    {
      "cell_type": "code",
      "source": [
        "def adicionarElemento(listaA):\n",
        "  meio = len(listaA) // 2\n",
        "  for item in range(len(listaA)):\n",
        "    if item == meio:\n",
        "      listaA.insert(item, 42)\n",
        "  return (listaA)\n",
        "\n",
        "precos_janeiro = [100, 102, 98, 100, 101, 99, 100, 102, 101, 100, 98, 97, 98, 100, 101, 102, 100, 99, 98, 100, 101, 102, 103, 104, 105, 106, 107, 108, 109, 110, 111]\n",
        "\n",
        "adicionarElemento(precos_janeiro)"
      ],
      "metadata": {
        "id": "Q7HfUcvEIRty"
      },
      "execution_count": null,
      "outputs": []
    },
    {
      "cell_type": "markdown",
      "source": [
        "## Elemento e índice\n",
        "\n",
        "Em python, muitas vezes é útil iterarmos tanto pelos elementos quanto pelos índices de listas. Sabendo disso, crie uma função calculaPotencia() que recebe uma lista A e retorna uma lista B, tal que os elementos desta lista sejam iguais aos elementos da lista A elevado a potência igual ao índice do respectivo elemento.\n",
        "\n",
        "Por exemplo, dado uma lista A = [2,5,6], gere uma lista B = [2^0, 5^1, 6^2]."
      ],
      "metadata": {
        "id": "arSAM6EENaUi"
      }
    },
    {
      "cell_type": "code",
      "source": [
        "def calculaPotencia(listaA):\n",
        "    listaB = []\n",
        "    for i, valor in enumerate(listaA):\n",
        "      listaB.append(valor ** i)\n",
        "    return listaB\n",
        "\n",
        "A = [2,5,6]\n",
        "\n",
        "calculaPotencia(A)"
      ],
      "metadata": {
        "colab": {
          "base_uri": "https://localhost:8080/"
        },
        "id": "FhzLbR3XNahf",
        "outputId": "739d6eea-074c-4523-a3ba-9fae3ec024e5"
      },
      "execution_count": null,
      "outputs": [
        {
          "output_type": "execute_result",
          "data": {
            "text/plain": [
              "[1, 5, 36]"
            ]
          },
          "metadata": {},
          "execution_count": 16
        }
      ]
    },
    {
      "cell_type": "code",
      "source": [
        "listaB = [valor ** i for i, valor in enumerate(A)]\n",
        "print(listaB)"
      ],
      "metadata": {
        "colab": {
          "base_uri": "https://localhost:8080/"
        },
        "id": "K5L5GrxnLe42",
        "outputId": "aafb31e8-a9a6-4b47-d144-6d98e9df9328"
      },
      "execution_count": null,
      "outputs": [
        {
          "output_type": "stream",
          "name": "stdout",
          "text": [
            "[1, 5, 36]\n"
          ]
        }
      ]
    },
    {
      "cell_type": "markdown",
      "source": [
        "## Função zip\n",
        "Em programação, podemos fazer uso de diferentes listas para armazenar nossos dados para, posteriormente, unir informações destas listas. Por exemplo, podemos guardar em uma lista os nomes de funcionários de uma empresa e, em outra lista, os cargos que estes funcionários ocupam.\n",
        "\n",
        "```\n",
        "funcionarios = [\"Paulo\", \"Andrea\", \"Marta\"]\n",
        "profissao = [\"cientista de dados\", \"engenheiro de dados\", \"desenvolvedor\"]\n",
        "```\n",
        "Dado essas duas listas, podemos querer exibir as duas informações conjuntamente da seguinte forma:\n",
        "\n",
        "`[('Paulo', 'cientista de dados'), ('Andrea', 'engenheiro de dados'), ('Marta', 'desenvolvedor')]`\n",
        "\n",
        "Podemos fazer isto por meio da função zip que recebe as duas listas e retorna uma saída como exposta acima. Além de exibir os valores, podemos fazer uso da função zip para diversas funcionalidades. Sabendo disso, crie uma função ultimoElementoLista2D() que receba uma lista de duas dimensões (isto é, uma lista de listas, na forma de matriz) e utilize o zip para retornar o último elemento de cada sublista.\n",
        "\n",
        "Por exemplo, se tivermos a lista abaixo:\n",
        "\n",
        "[[192, 193, 194],\n",
        " [507, 508, 509],\n",
        " [526, 527, 528, 529],\n",
        " [560, 561],\n",
        " [635, 636, 637]]\n",
        "Retorne [194, 509, 529, 561, 637]."
      ],
      "metadata": {
        "id": "eg9uhdUzQy8k"
      }
    },
    {
      "cell_type": "code",
      "source": [
        "lista_de_lista = [[192, 193, 194], [507, 508, 509], [526, 527, 528, 529], [560, 561], [635, 636, 637]]\n",
        "\n",
        "def ultimoElementoLista2D(lista):\n",
        "\n",
        " lista_zipada = []\n",
        "\n",
        " for sublista in lista:\n",
        "   lista_zipada.append(sublista.pop())\n",
        "\n",
        " return lista_zipada\n",
        "\n",
        "ultimoElementoLista2D(lista_de_lista)"
      ],
      "metadata": {
        "colab": {
          "base_uri": "https://localhost:8080/"
        },
        "id": "iA00Ee04QgBg",
        "outputId": "90b4bfc1-6839-488e-df54-ec6a82bd3597"
      },
      "execution_count": null,
      "outputs": [
        {
          "output_type": "execute_result",
          "data": {
            "text/plain": [
              "[194, 509, 529, 561, 637]"
            ]
          },
          "metadata": {},
          "execution_count": 12
        }
      ]
    },
    {
      "cell_type": "code",
      "source": [
        "listazipada = [sublista[-1] for sublista in lista_de_lista]\n",
        "\n",
        "print(listazipada)"
      ],
      "metadata": {
        "colab": {
          "base_uri": "https://localhost:8080/"
        },
        "id": "Dhfs1arw5gLn",
        "outputId": "7c4afecb-40c9-4262-8ad6-4c6b6591cde6"
      },
      "execution_count": null,
      "outputs": [
        {
          "output_type": "stream",
          "name": "stdout",
          "text": [
            "[193, 508, 528, 560, 636]\n"
          ]
        }
      ]
    }
  ]
}