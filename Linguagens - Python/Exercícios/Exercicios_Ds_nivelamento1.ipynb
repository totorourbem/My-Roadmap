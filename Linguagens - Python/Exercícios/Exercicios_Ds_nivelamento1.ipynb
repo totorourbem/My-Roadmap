{
  "nbformat": 4,
  "nbformat_minor": 0,
  "metadata": {
    "colab": {
      "provenance": []
    },
    "kernelspec": {
      "name": "python3",
      "display_name": "Python 3"
    },
    "language_info": {
      "name": "python"
    }
  },
  "cells": [
    {
      "cell_type": "markdown",
      "source": [
        "## Exercícios Ciclo 1 - DS\n",
        "\n",
        "1 - some o valor de 10 com 30 e exiba na tela"
      ],
      "metadata": {
        "id": "SnegUByAXxBY"
      }
    },
    {
      "cell_type": "code",
      "execution_count": 2,
      "metadata": {
        "colab": {
          "base_uri": "https://localhost:8080/"
        },
        "id": "VxEAWzMjXvoY",
        "outputId": "a5e0b92b-fe34-4f30-e276-acdc90d8e142"
      },
      "outputs": [
        {
          "output_type": "stream",
          "name": "stdout",
          "text": [
            "O resultado de dez mais trinta é 40\n"
          ]
        }
      ],
      "source": [
        "resultado = 10 + 30\n",
        "\n",
        "print(\"O resultado de dez mais trinta é\", resultado)"
      ]
    },
    {
      "cell_type": "markdown",
      "source": [
        "2 - Some os seguintes numeros: 10, 300, 0.4, 10"
      ],
      "metadata": {
        "id": "x8G21aTNYP9M"
      }
    },
    {
      "cell_type": "code",
      "source": [
        "lista_numeros = [10, 300, 0.4, 10]\n",
        "\n",
        "resultado2 = sum(lista_numeros)\n",
        "\n",
        "print(\"O resultado da som,a da lista é \", resultado2)"
      ],
      "metadata": {
        "colab": {
          "base_uri": "https://localhost:8080/"
        },
        "id": "envv8eoeYY-6",
        "outputId": "03d523d9-f63d-46b3-cdf7-0a5a171b3a0b"
      },
      "execution_count": 12,
      "outputs": [
        {
          "output_type": "stream",
          "name": "stdout",
          "text": [
            "O resultado da som,a da lista é  320.4\n"
          ]
        }
      ]
    },
    {
      "cell_type": "markdown",
      "source": [
        "3- Desenvolva comandos Python capaz de calcular a **média harmônica** entre cinco numeros, por exemplo 2, 3, 5, 6, 9"
      ],
      "metadata": {
        "id": "auKJd4IEefOR"
      }
    },
    {
      "cell_type": "code",
      "source": [
        "numeros_desarmonicos = [2, 3, 5, 6, 9]\n",
        "\n",
        "def media_harmonica(lista):\n",
        "  inversos = [1 / numero for numero in lista if numero !=  0]\n",
        "  mediaharm = len(lista)/ sum(inversos)\n",
        "  return mediaharm\n",
        "\n",
        "media_harmonica(numeros_desarmonicos)"
      ],
      "metadata": {
        "colab": {
          "base_uri": "https://localhost:8080/"
        },
        "id": "yxyBRBHSsn-p",
        "outputId": "9a2c97e5-7ae6-4a96-8e74-2b6b33a6c498"
      },
      "execution_count": 15,
      "outputs": [
        {
          "output_type": "execute_result",
          "data": {
            "text/plain": [
              "3.8135593220338984"
            ]
          },
          "metadata": {},
          "execution_count": 15
        }
      ]
    },
    {
      "cell_type": "markdown",
      "source": [
        "4 - Um cientísta de dados júnior precisa criar uma sequência de comandos que seja capaz de calcular a **média ponderada** dos valores digitados pelo usuário. O usuário temn a capacidade de digitar 8 valores. _O primeiro numoero tem, peso 0.5, o segundo 1, o terceiro 1.5 e assim sucessivamente até o ultimo que terá peso 4, **ou seja, os pessos são acreescidos de 0.5 para cada valor.** _ Portanto, o algoritmo deverá ser capaz de calcular a media ponderada  dos oito valores digitados pelo usuário, cada um com seu respectivo peso."
      ],
      "metadata": {
        "id": "dvmy0cKDwCrD"
      }
    },
    {
      "cell_type": "code",
      "source": [
        "def media_ponderada():\n",
        "  numeros_desponderados = []\n",
        "  pesos = []\n",
        "  pond1 = []\n",
        "\n",
        "  while len(numeros_desponderados) < 8:\n",
        "    numeros_desponderados.append(float(input(\"digite o numero para o cálculo da media ponderada:\")))\n",
        "    pesos_individuais= len(numeros_desponderados) * 0.5\n",
        "    pesos.append(pesos_individuais)\n",
        "\n",
        "  for numero, peso in zip(numeros_desponderados, pesos):\n",
        "    pond1.append(numero * peso)\n",
        "\n",
        "  return sum(pond1) / sum(pesos)\n",
        "\n",
        "media_ponderada()\n",
        "\n"
      ],
      "metadata": {
        "colab": {
          "base_uri": "https://localhost:8080/"
        },
        "id": "iN7MN641xFZ6",
        "outputId": "24cf1ef2-739f-48e8-f636-e3eae0a99762"
      },
      "execution_count": 24,
      "outputs": [
        {
          "name": "stdout",
          "output_type": "stream",
          "text": [
            "digite o numero para o cálculo da media ponderada:2\n",
            "digite o numero para o cálculo da media ponderada:4\n",
            "digite o numero para o cálculo da media ponderada:5\n",
            "digite o numero para o cálculo da media ponderada:6\n",
            "digite o numero para o cálculo da media ponderada:7\n",
            "digite o numero para o cálculo da media ponderada:8\n",
            "digite o numero para o cálculo da media ponderada:9\n",
            "digite o numero para o cálculo da media ponderada:10\n"
          ]
        },
        {
          "output_type": "execute_result",
          "data": {
            "text/plain": [
              "7.638888888888889"
            ]
          },
          "metadata": {},
          "execution_count": 24
        }
      ]
    },
    {
      "cell_type": "markdown",
      "source": [
        "5 - Um programaador Jr.  precisa construtir uma mini calculadora. Esas calculadora deve seguir os seguintes padrões:\n",
        "> a. Se um usário digitar um valor menor que 5, a calculadora vai multiplicar esse valor por 10 e retornar o valor resultante para os usuários,  \n",
        "> b. Se o susário digitar um mumero entre 6 e 10, a calculadora multiplica por 20 o numero digitado pelo usuário,  \n",
        "> c. Se o susaário digitar um valor maior ou igual a 11, a calculadora soma 100 ao numero digitado.  \n",
        "ajude o programadore a cosntrutir aessa calculadora , fornecendo os comandos em Python para ele."
      ],
      "metadata": {
        "id": "rxYQvRqg7Vwh"
      }
    },
    {
      "cell_type": "code",
      "source": [
        "def calculadora_xunior():\n",
        "  entrada = float(input(\"digite o numero para o cálculo programado:\"))\n",
        "\n",
        "  if entrada <= 5:\n",
        "    entrada_processada = entrada * 10\n",
        "  elif entrada <= 10:\n",
        "    entrada_processada = entrada * 20\n",
        "  else:\n",
        "    entrada_processada = entrada + 100\n",
        "\n",
        "  return entrada_processada\n",
        "\n",
        "calculadora_xunior()\n"
      ],
      "metadata": {
        "colab": {
          "base_uri": "https://localhost:8080/"
        },
        "id": "LA3x1lvQ8-G8",
        "outputId": "239a666a-d626-4ab5-d34f-3b612bca41ad"
      },
      "execution_count": 30,
      "outputs": [
        {
          "name": "stdout",
          "output_type": "stream",
          "text": [
            "digite o numero para o cálculo programado:-1\n"
          ]
        },
        {
          "output_type": "execute_result",
          "data": {
            "text/plain": [
              "-10.0"
            ]
          },
          "metadata": {},
          "execution_count": 30
        }
      ]
    },
    {
      "cell_type": "markdown",
      "source": [
        "6 - Um aprogramadore Jr. precisa criar um algoritmo que consiga fazer a comparação entre três valores e exibir qual é o maior e qual é o menor valor digitado. Ajude o porgramador desenvolvendo o código em Python"
      ],
      "metadata": {
        "id": "kZKrDjPiC4WR"
      }
    },
    {
      "cell_type": "code",
      "source": [
        "def comparador_xunior():\n",
        "  maior_de_todos = float('-inf')\n",
        "  menor_de_todos = float('inf')\n",
        "\n",
        "  entrada1 = float(input(\"digite o primeiro número para comparação:\"))\n",
        "  entrada2 = float(input(\"digite 0 segundo número para comparação:\"))\n",
        "  entrada3 = float(input(\"digite o terceiro número para comparação::\"))\n",
        "\n",
        "  if entrada1 >= maior_de_todos:\n",
        "    maior_de_todos = entrada1\n",
        "    if entrada2 >= maior_de_todos:\n",
        "      maior_de_todos = entrada2\n",
        "      if entrada3 >= maior_de_todos:\n",
        "        maior_de_todos = entrada3\n",
        "\n",
        "  if entrada1 <= menor_de_todos:\n",
        "    menor_de_todos = entrada1\n",
        "    if entrada2 <= menor_de_todos:\n",
        "      menor_de_todos = entrada2\n",
        "      if entrada3 <= menor_de_todos:\n",
        "        menor_de_todos = entrada3\n",
        "\n",
        "  print(f\"O maior dos números digitados foi {maior_de_todos}, já o menor entre eles foi {menor_de_todos}.\")\n",
        "\n",
        "comparador_xunior()\n"
      ],
      "metadata": {
        "colab": {
          "base_uri": "https://localhost:8080/"
        },
        "id": "9eLzk5OMDq2k",
        "outputId": "ba2328f0-2b35-42e1-bc0b-795c10f9333e"
      },
      "execution_count": 37,
      "outputs": [
        {
          "output_type": "stream",
          "name": "stdout",
          "text": [
            "digite o primeiro número para comparação:3\n",
            "digite 0 segundo número para comparação:1\n",
            "digite o terceiro número para comparação::2\n",
            "O maior dos números digitados foi 3.0, já o menor entre eles foi 1.0.\n"
          ]
        }
      ]
    }
  ]
}